{
 "cells": [
  {
   "cell_type": "code",
   "execution_count": null,
   "id": "a5a69ce4-cdc2-464a-bcbc-49f0eff7d2ea",
   "metadata": {},
   "outputs": [],
   "source": []
  }
 ],
 "metadata": {
  "kernelspec": {
   "display_name": "",
   "name": ""
  },
  "language_info": {
   "name": ""
  }
 },
 "nbformat": 4,
 "nbformat_minor": 5
}
