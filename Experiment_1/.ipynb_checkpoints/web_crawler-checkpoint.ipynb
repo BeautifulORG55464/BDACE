{
 "cells": [
  {
   "metadata": {
    "ExecuteTime": {
     "end_time": "2025-03-18T02:05:15.882564Z",
     "start_time": "2025-03-18T02:05:15.873816Z"
    }
   },
   "cell_type": "code",
   "source": "",
   "id": "37cae6b794b1fa57",
   "outputs": [],
   "execution_count": null
  }
 ],
 "metadata": {
  "kernelspec": {
   "display_name": "Python 3 (ipykernel)",
   "language": "python",
   "name": "python3"
  },
  "language_info": {
   "codemirror_mode": {
    "name": "ipython",
    "version": 3
   },
   "file_extension": ".py",
   "mimetype": "text/x-python",
   "name": "python",
   "nbconvert_exporter": "python",
   "pygments_lexer": "ipython3",
   "version": "3.12.3"
  }
 },
 "nbformat": 4,
 "nbformat_minor": 5
}
