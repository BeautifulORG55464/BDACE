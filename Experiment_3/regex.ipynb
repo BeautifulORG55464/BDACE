{
 "cells": [
  {
   "metadata": {
    "ExecuteTime": {
     "end_time": "2025-03-23T08:33:47.909061Z",
     "start_time": "2025-03-23T08:33:25.210628Z"
    }
   },
   "cell_type": "code",
   "source": [
    "import requests\n",
    "\n",
    "k = 0\n",
    "url = f'https://bbs.itheima.com/forum-425-{k}.html'\n",
    "header = {\n",
    "    'User-Agent': 'Mozilla/5.0 (Windows NT 10.0; Win64; x64) AppleWebKit/537.36 (KHTML, like Gecko) Chrome/134.0.0.0 Safari/537.36 Edg/134.0.0.0'\n",
    "}\n",
    "\n",
    "\n",
    "# requests.get(url, headers=header).content\n",
    "for i in range(70):\n",
    "    k += 1\n",
    "    response = requests.get(url, headers=header)\n",
    "    with open(f'../Data/Images/E3/heima/{k}.html', 'wb') as f:\n",
    "        f.write(response.content)"
   ],
   "id": "d0baf19149d8c0fc",
   "outputs": [],
   "execution_count": 7
  },
  {
   "metadata": {
    "ExecuteTime": {
     "end_time": "2025-03-23T08:56:40.428970Z",
     "start_time": "2025-03-23T08:56:40.073651Z"
    }
   },
   "cell_type": "code",
   "source": [
    "import requests\n",
    "from lxml import html\n",
    "k = 0\n",
    "url = f'https://bbs.itheima.com/forum-425-{k}.html'\n",
    "header = {\n",
    "    'User-Agent': 'Mozilla/5.0 (Windows NT 10.0; Win64; x64) AppleWebKit/537.36 (KHTML, like Gecko) Chrome/134.0.0.0 Safari/537.36 Edg/134.0.0.0'\n",
    "}\n",
    "\n",
    "\n",
    "# requests.get(url, headers=header).content\n",
    "# for i in range(70):\n",
    "k += 1\n",
    "response = requests.get(url, headers=header)\n",
    "\n",
    "\n",
    "# 文章标题\n",
    "# //th[contains(@class,\"new\") and contains(@class,\"forumtit\")]./a[1]/text()\n",
    "# 文章链接\n",
    "# //th[contains(@class,\"new\") and contains(@class,\"forumtit\")]./a[1]/@href\n",
    "# 文章作者\n",
    "# //th[contains(@class,\"new\") and contains(@class,\"forumtit\")]./div[@class=\"foruminfo\"]//a/span/text()\n",
    "# 某天前\n",
    "# //th[contains(@class,\"new\") and contains(@class,\"forumtit\")].//div[2]/i/span[1]/text()\n",
    "# 具体日期\n",
    "# //th[contains(@class,\"new\") and contains(@class,\"forumtit\")].//div[2]/i/span[1]/ span/@title\n",
    "\n",
    "tree = html.fromstring(response.text)\n",
    "# //th[contains(@class, \"new\") and contains(@class, \"forumtit\")]/a[1]/text()\n",
    "elements = tree.xpath(r'//th[contains(@class, \"new\") and contains(@class, \"forumtit\")]/a[1]/text()')\n",
    "elements"
   ],
   "id": "a64ef1c592f232cf",
   "outputs": [
    {
     "data": {
      "text/plain": [
       "['通过爬虫获取失踪儿童信息',\n",
       " '关于Django项目《美多商城》的全部流程(下)--从购物车到部署',\n",
       " '人工智能+Python发布广州校区实体班同步视频+笔记+资源',\n",
       " 'python资源大集合，手把手玩转人工智能！',\n",
       " '提高python效率的6大技巧！',\n",
       " '想开发一个集成平台，如何开发？',\n",
       " 'Python请求拉取网页上的内容',\n",
       " '在python中没有random库怎么办',\n",
       " '【上海校区】深度学习-目标检测数据集以及评估指标',\n",
       " '基础入门————安装和使用pycharm（上）',\n",
       " '请教从采购销售数据, 得到剩余库存和库存成本(加权平均价)',\n",
       " '如何采集豆瓣的影评',\n",
       " '各地监管加强 矿圈“凉凉”',\n",
       " '无头浏览器Selenium的使用要点',\n",
       " 'python大数据抓取京东电脑销量数据',\n",
       " 'python爬取热门城市奶茶店铺信息',\n",
       " '听说，阿里的程序员都在搞DT！！！',\n",
       " '疯狂欧洲杯',\n",
       " 'python 数据排序问题',\n",
       " 'python抓取微信撤回消息',\n",
       " '网络爬虫如何选择java和python语言',\n",
       " 'numpy大神看过来~又是一个受苦于for循环的小黑马',\n",
       " 'python爬取考研专业信息',\n",
       " 'java练习',\n",
       " '有没有大规模节点控制的相关资料',\n",
       " '如何筛选出连续3次考试成绩上升的学生',\n",
       " '给列表赋值的问题',\n",
       " 'list里有7个inptu,为什么用户一直inptu停不下来',\n",
       " 'li.append的问题',\n",
       " '【上海校区】最全Pycharm教程（1）——定制外观',\n",
       " '网上搜的过滤敏感词的一段代码，测试后发现在过',\n",
       " '如何debug以下这个问题',\n",
       " '求助用python爬虫给B站视频批量发评论',\n",
       " 'python小白问题求解答：调用类提示takes no arguemnts',\n",
       " '漫画排序算法Python实现',\n",
       " 'Python中正则表达式模块详解',\n",
       " 'Python函数',\n",
       " 'python-酷我音乐',\n",
       " 'python爬虫爬取拉勾招聘网',\n",
       " '爬虫的程序报错，socket.gaierror: [Errno 11001] getaddrinfo failed',\n",
       " '调查：人工智能技术的应用现状',\n",
       " 'Opencv python之车辆识别项目',\n",
       " 'Python学习简单爬虫及文件保存',\n",
       " 'python 数字转换为大写',\n",
       " 'python爬几部国漫',\n",
       " 'app.MainLoop()  如何与 while True：同时执行，目前只能执行其...',\n",
       " 'Python3.6自动群发邮件',\n",
       " 'Python多进程opencv调用rtsp视频流',\n",
       " 'flask+python 实时视频流输出到前台',\n",
       " 'Python编写坦克大战(新增无敌模式)']"
      ]
     },
     "execution_count": 18,
     "metadata": {},
     "output_type": "execute_result"
    }
   ],
   "execution_count": 18
  },
  {
   "metadata": {},
   "cell_type": "code",
   "outputs": [],
   "execution_count": null,
   "source": "",
   "id": "f4595842ea991480"
  }
 ],
 "metadata": {
  "kernelspec": {
   "display_name": "Python 3",
   "language": "python",
   "name": "python3"
  },
  "language_info": {
   "codemirror_mode": {
    "name": "ipython",
    "version": 2
   },
   "file_extension": ".py",
   "mimetype": "text/x-python",
   "name": "python",
   "nbconvert_exporter": "python",
   "pygments_lexer": "ipython2",
   "version": "2.7.6"
  }
 },
 "nbformat": 4,
 "nbformat_minor": 5
}
