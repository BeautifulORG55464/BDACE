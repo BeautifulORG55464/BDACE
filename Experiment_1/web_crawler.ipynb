{
 "cells": [
  {
   "metadata": {},
   "cell_type": "code",
   "source": [
    "import requests\n",
    "\n",
    "base_url = 'https://www.baidu.com/s'\n",
    "wd_params = {'wd': 'python'}\n",
    "response = requests.get(base_url, params=wd_params)\n",
    "response.status_code"
   ],
   "id": "37cae6b794b1fa57",
   "outputs": [],
   "execution_count": null
  },
  {
   "metadata": {},
   "cell_type": "code",
   "source": "response.text",
   "id": "2632385e265cfdd5",
   "outputs": [],
   "execution_count": null
  },
  {
   "metadata": {},
   "cell_type": "code",
   "source": "response.content",
   "id": "bfe071bbf347e65f",
   "outputs": [],
   "execution_count": null
  },
  {
   "metadata": {},
   "cell_type": "code",
   "source": "response.headers",
   "id": "8587b9f7adf04a0b",
   "outputs": [],
   "execution_count": null
  },
  {
   "metadata": {},
   "cell_type": "code",
   "source": "response.request",
   "id": "c8b3d24384501d4b",
   "outputs": [],
   "execution_count": null
  },
  {
   "metadata": {},
   "cell_type": "code",
   "source": "response.url",
   "id": "14f0bbb3db89cd1",
   "outputs": [],
   "execution_count": null
  },
  {
   "metadata": {},
   "cell_type": "code",
   "source": "response.encoding",
   "id": "169957035a95b9b7",
   "outputs": [],
   "execution_count": null
  },
  {
   "metadata": {},
   "cell_type": "code",
   "source": "response.cookies",
   "id": "2e2290ffb914a16b",
   "outputs": [],
   "execution_count": null
  },
  {
   "metadata": {},
   "cell_type": "code",
   "source": [
    "response.encoding = 'utf-8'\n",
    "response.text"
   ],
   "id": "d1801d0c77ca95c3",
   "outputs": [],
   "execution_count": null
  },
  {
   "metadata": {},
   "cell_type": "code",
   "source": "response.encoding",
   "id": "63e63b22ee67c407",
   "outputs": [],
   "execution_count": null
  },
  {
   "metadata": {},
   "cell_type": "code",
   "source": [
    "response = requests.get('https://www.baidu.com')\n",
    "response.text"
   ],
   "id": "cd71e6d75fc2ad74",
   "outputs": [],
   "execution_count": null
  },
  {
   "metadata": {},
   "cell_type": "code",
   "source": "response.encoding",
   "id": "fd0117170312907f",
   "outputs": [],
   "execution_count": null
  },
  {
   "metadata": {},
   "cell_type": "code",
   "source": [
    "response.encoding='utf-8'\n",
    "response.text"
   ],
   "id": "4436c0b55713cb31",
   "outputs": [],
   "execution_count": null
  },
  {
   "metadata": {},
   "cell_type": "code",
   "source": "response.content",
   "id": "c4e2b6adbf3ac91e",
   "outputs": [],
   "execution_count": null
  },
  {
   "metadata": {},
   "cell_type": "code",
   "source": [
    "import requests\n",
    "\n",
    "base_url = 'https://c-ssl.duitang.com/uploads/blog/202008/25/20200825191741_6d28c.thumb.1000_0.gif'\n",
    "response = requests.get(base_url)\n",
    "# response.content\n",
    "\n",
    "with open('../Data/Images/E1/baidu.gif', 'wb') as file:\n",
    "    file.write(response.content)"
   ],
   "id": "b101d14f2b21a467",
   "outputs": [],
   "execution_count": null
  },
  {
   "metadata": {
    "ExecuteTime": {
     "end_time": "2025-03-19T07:30:11.842497Z",
     "start_time": "2025-03-19T07:30:11.521125Z"
    }
   },
   "cell_type": "code",
   "source": [
    "header = {'User-Agent':'Mozilla/5.0 (Windows NT 10.0; Win64; x64) AppleWebKit/537.36 (KHTML, like Gecko) Chrome/134.0.0.0 Safari/537.36 Edg/134.0.0.0'}\n",
    "base_url = 'https://www.bilibili.com/'\n",
    "response = requests.get(base_url, headers=header)\n",
    "response.text\n",
    "\n",
    "with open('../Data/Images/E1/bilibili.html', 'wb') as file:\n",
    "    file.write(response.content)"
   ],
   "id": "6b5f858756eb7045",
   "outputs": [],
   "execution_count": 17
  },
  {
   "metadata": {},
   "cell_type": "code",
   "source": [
    "import requests\n",
    "\n",
    "sess_obj = requests.Session()\n",
    "sess_obj.get('http://httpbin.org/cookies/set/sessioncookie/123456789')\n",
    "response = sess_obj.get('http://httpbin.org/cookies')\n",
    "print(response.content)"
   ],
   "id": "155783d27b3a3a11",
   "outputs": [],
   "execution_count": null
  },
  {
   "metadata": {},
   "cell_type": "code",
   "source": [
    "requests.get('http://httpbin.org/cookies/set/sessioncookie/123456789')\n",
    "response = requests.get('http://httpbin.org/cookies')\n",
    "print(response.text)"
   ],
   "id": "3e37511c847c218d",
   "outputs": [],
   "execution_count": null
  },
  {
   "metadata": {},
   "cell_type": "code",
   "source": [
    "import requests\n",
    "\n",
    "base_url = 'https://data.stats.gov.cn/'\n",
    "header = {'User-Agent':'Mozilla/5.0 (Windows NT 10.0; Win64; x64) AppleWebKit/537.36 (KHTML, like Gecko) Chrome/134.0.0.0 Safari/537.36 Edg/134.0.0.0'}\n",
    "\n",
    "response = requests.get(base_url, headers=header,verify=True)\n",
    "response.status_code"
   ],
   "id": "f6d1560f391d58b2",
   "outputs": [],
   "execution_count": null
  },
  {
   "metadata": {},
   "cell_type": "code",
   "source": [
    "import  requests\n",
    "proxies = {\n",
    "    'http':'http://127.0.0.1:10809',\n",
    "    'https':'http://127.0.0.1:10809'\n",
    "}\n",
    "\n",
    "response = requests.get('https://huggingface.co/learn/nlp-course/chapter1/1', headers=header,proxies=proxies)\n",
    "\n",
    "response.status_code"
   ],
   "id": "39f33c6423ab163e",
   "outputs": [],
   "execution_count": null
  },
  {
   "metadata": {
    "ExecuteTime": {
     "end_time": "2025-03-19T07:23:55.648867Z",
     "start_time": "2025-03-19T07:23:50.612631Z"
    }
   },
   "cell_type": "code",
   "source": [
    "import time, requests\n",
    "\n",
    "print(time.strftime('开始时间:%Y-%m-%d %H:%M:%S'))\n",
    "try:\n",
    "    html_str = requests.get('https://www.google.com', timeout=5).text\n",
    "    print(\"访问成功\")\n",
    "except requests.exceptions.RequestException as error:\n",
    "    print(\"访问失败\")\n",
    "    print(error)\n",
    "\n",
    "print(time.strftime('结束时间:%Y-%m-%d %H:%M:%S'))"
   ],
   "id": "ffac68dcf3fdefc1",
   "outputs": [
    {
     "name": "stdout",
     "output_type": "stream",
     "text": [
      "开始时间:2025-03-19 15:23:50\n",
      "访问失败\n",
      "HTTPSConnectionPool(host='www.google.com', port=443): Max retries exceeded with url: / (Caused by ConnectTimeoutError(<urllib3.connection.HTTPSConnection object at 0x000001D4E53CEBB0>, 'Connection to www.google.com timed out. (connect timeout=5)'))\n",
      "结束时间:2025-03-19 15:23:55\n"
     ]
    }
   ],
   "execution_count": 14
  },
  {
   "metadata": {},
   "cell_type": "code",
   "outputs": [],
   "execution_count": null,
   "source": "",
   "id": "4c89cd0f4c62f531"
  }
 ],
 "metadata": {
  "kernelspec": {
   "display_name": "Python 3 (ipykernel)",
   "language": "python",
   "name": "python3"
  },
  "language_info": {
   "codemirror_mode": {
    "name": "ipython",
    "version": 3
   },
   "file_extension": ".py",
   "mimetype": "text/x-python",
   "name": "python",
   "nbconvert_exporter": "python",
   "pygments_lexer": "ipython3",
   "version": "3.12.3"
  }
 },
 "nbformat": 4,
 "nbformat_minor": 5
}
