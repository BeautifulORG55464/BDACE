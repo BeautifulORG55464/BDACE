{
 "cells": [
  {
   "cell_type": "code",
   "execution_count": null,
   "id": "07cfa42b-e29b-4ae9-976e-53e3141b3b64",
   "metadata": {},
   "outputs": [],
   "source": [
    "# 代码3-6\n",
    "import requests\n",
    "url = 'http://www.tipdm.com'\n",
    "# 生成GET请求\n",
    "\n",
    " # 查看结果类型\n",
    "\n",
    " # 查看状态码\n",
    "\n",
    " # 查看编码\n",
    "\n",
    " # 查看响应头\n",
    "\n",
    " # 查看网页内容\n"
   ]
  },
  {
   "cell_type": "code",
   "execution_count": null,
   "id": "2f2e2fab-380c-403d-a8b5-59f2e45eeffb",
   "metadata": {},
   "outputs": [],
   "source": [
    "# 代码3-7\n",
    "url = 'http://www.tipdm.com'\n",
    "rqg = requests.get(url)\n",
    "print('状态码：', rqg.status_code)  # 查看状态码\n",
    "# 若rqg.encoding结果不是utf-8，则手动指定编码\n",
    "\n",
    " # 查看修改后的编码\n"
   ]
  },
  {
   "cell_type": "code",
   "execution_count": null,
   "id": "1ad002e9-0417-43b7-977d-bf41fc951e20",
   "metadata": {},
   "outputs": [],
   "source": [
    "# 代码3-8\n",
    "import chardet\n",
    "url = 'http://www.tipdm.com'\n",
    "rqg = requests.get(url)\n",
    "print('编码：', rqg.encoding)  # 查看编码\n",
    "print('detect()方法检测结果：', chardet.detect(rqg.content))\n",
    "# 将检测到的编码赋值给rqg.encoding\n",
    "\n",
    "# 查看改变后的编码\n",
    "\n",
    "\n"
   ]
  },
  {
   "cell_type": "code",
   "execution_count": null,
   "id": "affbecda-4f5b-44c4-adc8-3c8f988330bb",
   "metadata": {},
   "outputs": [],
   "source": [
    "# 代码3-9\n",
    "url = 'http://www.tipdm.com'\n",
    "#设置响应头，赋值为ua\n",
    "ua = \n",
    "rqg = requests.get(url, headers=ua)\n",
    "print('响应头：', rqg.headers)  # 查看响应头"
   ]
  },
  {
   "cell_type": "code",
   "execution_count": null,
   "id": "5941396e-3e6a-415c-8fb2-a7139ed085a3",
   "metadata": {},
   "outputs": [],
   "source": [
    "# 代码3-10\n",
    "url = 'http://www.tipdm.com'\n",
    "#获取网页，设置求网页时设定的超时时长为0.01秒，赋值给resp变量\n",
    "resp= \n",
    "print('超时时间为2s：',resp )  \n"
   ]
  }
 ],
 "metadata": {
  "kernelspec": {
   "display_name": "Python 3 (ipykernel)",
   "language": "python",
   "name": "python3"
  },
  "language_info": {
   "codemirror_mode": {
    "name": "ipython",
    "version": 3
   },
   "file_extension": ".py",
   "mimetype": "text/x-python",
   "name": "python",
   "nbconvert_exporter": "python",
   "pygments_lexer": "ipython3",
   "version": "3.11.7"
  }
 },
 "nbformat": 4,
 "nbformat_minor": 5
}
