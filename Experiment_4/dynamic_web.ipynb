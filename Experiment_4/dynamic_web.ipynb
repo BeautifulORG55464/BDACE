{
 "cells": [
  {
   "metadata": {
    "ExecuteTime": {
     "end_time": "2025-03-24T12:04:35.570865Z",
     "start_time": "2025-03-24T12:04:33.610492Z"
    }
   },
   "cell_type": "code",
   "source": [
    "import requests\n",
    "from bs4 import BeautifulSoup\n",
    "from selenium import webdriver\n",
    "from selenium.webdriver.common.by import By\n",
    "from lxml import html\n",
    "\n",
    "header = {\n",
    "    'User-Agent': 'Mozilla/5.0 (Windows NT 10.0; Win64; x64) AppleWebKit/537.36 (KHTML, like Gecko) Chrome/134.0.0.0 Safari/537.36 Edg/134.0.0.0'\n",
    "}\n",
    "\n",
    "url = 'https://jxd.itheima.net/#/login'\n",
    "\n",
    "driver = webdriver.Chrome()\n",
    "driver.get(url)"
   ],
   "id": "42ead65674bbdf3e",
   "outputs": [],
   "execution_count": 44
  },
  {
   "metadata": {
    "ExecuteTime": {
     "end_time": "2025-03-24T12:04:39.584810Z",
     "start_time": "2025-03-24T12:04:35.576866Z"
    }
   },
   "cell_type": "code",
   "source": [
    "user_name = '12022222227'\n",
    "password = '037itheima.CN032@.20250324'\n",
    "\n",
    "un = driver.find_element(By.XPATH, '//*[@id=\"app\"]/div/div/div[2]/div/form/div/div[1]/div/div/div/input')\n",
    "un.click()\n",
    "un.send_keys(user_name)\n",
    "\n",
    "pa = driver.find_element(By.XPATH, '//*[@id=\"app\"]/div/div/div[2]/div/form/div/div[2]/div/div/div/input')\n",
    "pa.click()\n",
    "pa.send_keys(password)\n",
    "\n",
    "driver.find_element(By.XPATH, '//*[@id=\"app\"]/div/div/div[2]/div/button').click()"
   ],
   "id": "c14238194786a85a",
   "outputs": [],
   "execution_count": 45
  },
  {
   "metadata": {
    "ExecuteTime": {
     "end_time": "2025-03-24T12:04:39.724753Z",
     "start_time": "2025-03-24T12:04:39.601846Z"
    }
   },
   "cell_type": "code",
   "source": [
    "driver.find_element(By.XPATH, '//*[@id=\"app\"]/div/div[1]/ul/li[2]/div/div').click()\n",
    "driver.find_element(By.XPATH,\n",
    "                    '//*[@id=\"app\"]/div/div[1]/ul/li[2]/ul/li/ul/li[5]').click()\n",
    "\n",
    "\n",
    "\n",
    "\n",
    "\n",
    "\n",
    "ip = driver.find_element(By.XPATH, '//*[@id=\"app\"]/div/div[2]/div[1]/div/div/div/div/div[3]/div[1]/form/div/div[1]/div/div/div/input')\n",
    "ip.click()\n",
    "ip.send_keys('黑马头条')\n",
    "\n",
    "ip = driver.find_element(By.XPATH, '//*[@id=\"app\"]/div/div[2]/div[1]/div/div/div/div/div[3]/div[1]/form/div/div[4]/div/div/div/input')\n",
    "ip.click()\n",
    "ip.send_keys('黑马头条')\n",
    "\n",
    "driver.find_element(By.XPATH, '//*[@id=\"app\"]/div/div[2]/div[1]/div/div/div/div/div[3]/div[1]/form/div/div[5]/div/div/div/button[1]').click()\n",
    "\n"
   ],
   "id": "ba9df12a50387b5",
   "outputs": [],
   "execution_count": 46
  }
 ],
 "metadata": {
  "kernelspec": {
   "display_name": "Python 3",
   "language": "python",
   "name": "python3"
  },
  "language_info": {
   "codemirror_mode": {
    "name": "ipython",
    "version": 2
   },
   "file_extension": ".py",
   "mimetype": "text/x-python",
   "name": "python",
   "nbconvert_exporter": "python",
   "pygments_lexer": "ipython2",
   "version": "2.7.6"
  }
 },
 "nbformat": 4,
 "nbformat_minor": 5
}
