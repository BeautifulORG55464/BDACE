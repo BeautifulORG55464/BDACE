{
 "cells": [
  {
   "cell_type": "code",
   "id": "initial_id",
   "metadata": {
    "collapsed": true,
    "ExecuteTime": {
     "end_time": "2025-03-04T03:52:01.081510Z",
     "start_time": "2025-03-04T03:52:01.071510Z"
    }
   },
   "source": [
    "import re\n",
    "str = 'abc45'\n",
    "\n",
    "res = re.search(r'(45)',str)\n",
    "res.group(0)"
   ],
   "outputs": [
    {
     "data": {
      "text/plain": [
       "'45'"
      ]
     },
     "execution_count": 4,
     "metadata": {},
     "output_type": "execute_result"
    }
   ],
   "execution_count": 4
  },
  {
   "metadata": {
    "ExecuteTime": {
     "end_time": "2025-03-04T03:52:49.242636Z",
     "start_time": "2025-03-04T03:52:49.222635Z"
    }
   },
   "cell_type": "code",
   "source": [
    "# 代码3-28，用findall方法查找出'ab2c3ed'字符串中的数字\n",
    "str = 'ab2c3ed'\n",
    "res = re.findall(r'(\\d+)',str)\n",
    "res"
   ],
   "id": "d7df56da687f8df1",
   "outputs": [
    {
     "data": {
      "text/plain": [
       "['2', '3']"
      ]
     },
     "execution_count": 5,
     "metadata": {},
     "output_type": "execute_result"
    }
   ],
   "execution_count": 5
  },
  {
   "metadata": {
    "ExecuteTime": {
     "end_time": "2025-03-04T07:59:21.084721Z",
     "start_time": "2025-03-04T07:59:20.498260Z"
    }
   },
   "cell_type": "code",
   "source": [
    "# 代码3-29\n",
    "import requests\n",
    "import chardet\n",
    "import re\n",
    "url = 'http://www.tipdm.com'\n",
    "ua = {'User-Agent':'Mozilla/5.0 (Windows NT 10.0; Win64; x64) AppleWebKit/537.36 (KHTML, like Gecko) Chrome/133.0.0.0 Safari/537.36 Edg/133.0.0.0'}\n",
    "rqg = requests.get(url, headers=ua)\n",
    "rqg.encoding = chardet.detect(rqg.content)['encoding']\n",
    "# 使用search()方法查找title中的内容\n",
    "\n",
    "title = re.search(r'<title>(.*?)</title>', rqg.text)\n",
    "\n",
    "print('标题内容：', title.group(1))\n",
    "# 使用findall()方法查找title中的内容\n",
    "title = re.findall(r'<title>(.*?)</title>', rqg.text)\n",
    "print('标题内容：', title)"
   ],
   "id": "1ac1ea80aa5176b4",
   "outputs": [
    {
     "name": "stdout",
     "output_type": "stream",
     "text": [
      "标题内容： 泰迪智能科技-大数据实验室建设_大数据实训平台-大数据人工智能专业建设\n",
      "标题内容： ['泰迪智能科技-大数据实验室建设_大数据实训平台-大数据人工智能专业建设']\n"
     ]
    }
   ],
   "execution_count": 3
  },
  {
   "metadata": {},
   "cell_type": "code",
   "outputs": [],
   "execution_count": null,
   "source": "",
   "id": "d19a5a0135a9a3ab"
  }
 ],
 "metadata": {
  "kernelspec": {
   "display_name": "Python 3",
   "language": "python",
   "name": "python3"
  },
  "language_info": {
   "codemirror_mode": {
    "name": "ipython",
    "version": 2
   },
   "file_extension": ".py",
   "mimetype": "text/x-python",
   "name": "python",
   "nbconvert_exporter": "python",
   "pygments_lexer": "ipython2",
   "version": "2.7.6"
  }
 },
 "nbformat": 4,
 "nbformat_minor": 5
}
