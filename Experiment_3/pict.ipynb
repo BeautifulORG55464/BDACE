{
 "cells": [
  {
   "cell_type": "code",
   "id": "initial_id",
   "metadata": {
    "collapsed": true,
    "ExecuteTime": {
     "end_time": "2025-03-24T11:01:04.444385Z",
     "start_time": "2025-03-24T11:01:04.426456Z"
    }
   },
   "source": [
    "header = {\n",
    "    'User-Agent': 'Mozilla/5.0 (Windows NT 10.0; Win64; x64) AppleWebKit/537.36 (KHTML, like Gecko) Chrome/134.0.0.0 Safari/537.36 Edg/134.0.0.0'\n",
    "}\n",
    "\n",
    "url = 'https://movie.douban.com/top250?start=0&filter='"
   ],
   "outputs": [],
   "execution_count": 22
  },
  {
   "metadata": {
    "ExecuteTime": {
     "end_time": "2025-03-24T11:17:47.691161Z",
     "start_time": "2025-03-24T11:12:13.665556Z"
    }
   },
   "cell_type": "code",
   "source": [
    "import requests\n",
    "from bs4 import BeautifulSoup\n",
    "import re\n",
    "\n",
    "from pathlib import Path\n",
    "\n",
    "for i in range(0, 226, 25):\n",
    "    # print(i)\n",
    "    url = f'https://movie.douban.com/top250?start={i}&filter='\n",
    "    response = requests.get(url, headers=header)\n",
    "    bs4 = BeautifulSoup(response.content, 'lxml')\n",
    "    res = bs4.select('.pic img')\n",
    "\n",
    "    # print(res, end='\\nヾ(≧▽≦*)o这是分割线-------------------------------这是分割线ヾ(≧▽≦*)o\\n')\n",
    "\n",
    "    #使用deepseek------------\n",
    "    dir_path = Path(f'../Data/Images/E3/douban/top{i+1}~top{i+25}')\n",
    "    dir_path.mkdir(parents=True, exist_ok=True)\n",
    "    #使用deepseek------------\n",
    "\n",
    "    for j in range(0, 25):\n",
    "        pu = re.search(r'src=\"(.*?)\"',str(res[j]))\n",
    "\n",
    "        # print(pu.group(1), end='\\n\\nヾ(≧▽≦*)o这是分割线-------------------------------这是分割线ヾ(≧▽≦*)o\\n\\n')\n",
    "\n",
    "        with open(f'../Data/Images/E3/douban/top{i+1}~top{i+25}/top{i + j + 1}.jpg', 'wb') as file:\n",
    "            file.write(requests.get(pu.group(1)).content)\n"
   ],
   "id": "57f9934d73bdd7b6",
   "outputs": [],
   "execution_count": 28
  },
  {
   "metadata": {},
   "cell_type": "code",
   "outputs": [],
   "execution_count": null,
   "source": "",
   "id": "681b452a6f6ae452"
  }
 ],
 "metadata": {
  "kernelspec": {
   "display_name": "Python 3",
   "language": "python",
   "name": "python3"
  },
  "language_info": {
   "codemirror_mode": {
    "name": "ipython",
    "version": 2
   },
   "file_extension": ".py",
   "mimetype": "text/x-python",
   "name": "python",
   "nbconvert_exporter": "python",
   "pygments_lexer": "ipython2",
   "version": "2.7.6"
  }
 },
 "nbformat": 4,
 "nbformat_minor": 5
}
