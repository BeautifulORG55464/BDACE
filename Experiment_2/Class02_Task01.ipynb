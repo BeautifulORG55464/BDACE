{
 "cells": [
  {
   "cell_type": "code",
   "id": "a5a69ce4-cdc2-464a-bcbc-49f0eff7d2ea",
   "metadata": {
    "ExecuteTime": {
     "end_time": "2025-03-04T02:58:35.209211Z",
     "start_time": "2025-03-04T02:58:35.192196Z"
    }
   },
   "source": [
    "import re\n",
    "\n",
    "string = \"狗的英文：dog，猫的英文：cat。\"\n",
    "\n",
    "print(re.findall('[\\\\u4e00-\\\\u9fa5]+',string))"
   ],
   "outputs": [
    {
     "name": "stdout",
     "output_type": "stream",
     "text": [
      "['狗的英文', '猫的英文']\n"
     ]
    }
   ],
   "execution_count": 9
  },
  {
   "metadata": {
    "ExecuteTime": {
     "end_time": "2025-03-04T03:03:52.594374Z",
     "start_time": "2025-03-04T03:03:52.589477Z"
    }
   },
   "cell_type": "code",
   "source": [
    "import re\n",
    "ss = 'I love you,do you?'\n",
    "res = re.findall(r'((\\w+)\\s(\\w+))',ss)\n",
    "print(res)"
   ],
   "id": "ef5635e87f04eb3a",
   "outputs": [
    {
     "name": "stdout",
     "output_type": "stream",
     "text": [
      "[('I love', 'I', 'love'), ('do you', 'do', 'you')]\n"
     ]
    }
   ],
   "execution_count": 10
  },
  {
   "metadata": {
    "ExecuteTime": {
     "end_time": "2025-03-04T03:14:43.353584Z",
     "start_time": "2025-03-04T03:14:43.337112Z"
    }
   },
   "cell_type": "code",
   "source": [
    "import re\n",
    "ss = 'I love you,do you?'\n",
    "res = re.search(r'(\\w+)(,)',ss) # 组别\n",
    "res"
   ],
   "id": "ff22f59a3263126b",
   "outputs": [
    {
     "data": {
      "text/plain": [
       "<re.Match object; span=(7, 11), match='you,'>"
      ]
     },
     "execution_count": 12,
     "metadata": {},
     "output_type": "execute_result"
    }
   ],
   "execution_count": 12
  },
  {
   "metadata": {
    "ExecuteTime": {
     "end_time": "2025-03-04T03:14:55.428516Z",
     "start_time": "2025-03-04T03:14:55.420505Z"
    }
   },
   "cell_type": "code",
   "source": "res.group(0)",
   "id": "9991b263f618922",
   "outputs": [
    {
     "data": {
      "text/plain": [
       "'you,'"
      ]
     },
     "execution_count": 13,
     "metadata": {},
     "output_type": "execute_result"
    }
   ],
   "execution_count": 13
  },
  {
   "metadata": {
    "ExecuteTime": {
     "end_time": "2025-03-04T03:15:58.481133Z",
     "start_time": "2025-03-04T03:15:58.465315Z"
    }
   },
   "cell_type": "code",
   "source": "res.group(1)",
   "id": "d573a39bb625712d",
   "outputs": [
    {
     "data": {
      "text/plain": [
       "'you'"
      ]
     },
     "execution_count": 14,
     "metadata": {},
     "output_type": "execute_result"
    }
   ],
   "execution_count": 14
  },
  {
   "metadata": {
    "ExecuteTime": {
     "end_time": "2025-03-04T03:16:31.751752Z",
     "start_time": "2025-03-04T03:16:31.734736Z"
    }
   },
   "cell_type": "code",
   "source": "res.group(2)",
   "id": "bd68d56df680dc3",
   "outputs": [
    {
     "data": {
      "text/plain": [
       "','"
      ]
     },
     "execution_count": 15,
     "metadata": {},
     "output_type": "execute_result"
    }
   ],
   "execution_count": 15
  },
  {
   "metadata": {
    "ExecuteTime": {
     "end_time": "2025-03-04T03:17:31.508093Z",
     "start_time": "2025-03-04T03:17:31.491077Z"
    }
   },
   "cell_type": "code",
   "source": [
    "import re\n",
    "ss = 'I love you,do you?'\n",
    "res = re.findall(r'\\w+,',ss)\n",
    "print(res)"
   ],
   "id": "1089a8383abda6a2",
   "outputs": [
    {
     "name": "stdout",
     "output_type": "stream",
     "text": [
      "['you,']\n"
     ]
    }
   ],
   "execution_count": 18
  }
 ],
 "metadata": {
  "kernelspec": {
   "display_name": "Python 3 (ipykernel)",
   "name": "python3",
   "language": "python"
  },
  "language_info": {
   "name": ""
  }
 },
 "nbformat": 4,
 "nbformat_minor": 5
}
